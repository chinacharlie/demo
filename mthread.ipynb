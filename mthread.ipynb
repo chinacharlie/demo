{
 "cells": [
  {
   "cell_type": "code",
   "execution_count": 2,
   "metadata": {},
   "outputs": [
    {
     "name": "stdout",
     "output_type": "stream",
     "text": [
      "Results: [50509354, 50465868, 50480693, 50479324, 50477163, 50549567, 50482137, 50449576]\n"
     ]
    }
   ],
   "source": [
    "import random\n",
    "import threading\n",
    "import time\n",
    "\n",
    "results = []\n",
    "\n",
    "def compute():\n",
    "    results.append(sum([random.randint(1, 100) for i in range(1000000)]))\n",
    "\n",
    "for i in range(8):\n",
    "    compute()\n",
    "\n",
    "print('Results: %s' % results)\n",
    "\n"
   ]
  },
  {
   "cell_type": "code",
   "execution_count": 3,
   "metadata": {},
   "outputs": [
    {
     "name": "stdout",
     "output_type": "stream",
     "text": [
      "Results: [50520609, 50534037, 50491861, 50487455, 50496768, 50494540, 50493900, 50496520]\n"
     ]
    }
   ],
   "source": [
    "import random\n",
    "import threading\n",
    "import time\n",
    "\n",
    "results = []\n",
    "\n",
    "def compute():\n",
    "    results.append(sum([random.randint(1, 100) for i in range(1000000)]))\n",
    "\n",
    "workers = [threading.Thread(target=compute) for x in range(8)]\n",
    "for worker in workers:\n",
    "    worker.start()\n",
    "for worker in workers:\n",
    "    worker.join()\n",
    "\n",
    "print('Results: %s' % results)\n"
   ]
  },
  {
   "cell_type": "code",
   "execution_count": 4,
   "metadata": {},
   "outputs": [
    {
     "name": "stdout",
     "output_type": "stream",
     "text": [
      "Results: [0, 0, 0, 0, 0, 0, 0, 0]\n"
     ]
    }
   ],
   "source": [
    "import random\n",
    "import threading\n",
    "import time\n",
    "\n",
    "results = []\n",
    "\n",
    "def sleep_or_io():\n",
    "    time.sleep(5)\n",
    "    results.append(0)\n",
    "\n",
    "\n",
    "workers = [threading.Thread(target=sleep_or_io) for x in range(8)]\n",
    "for worker in workers:\n",
    "    worker.start()\n",
    "for worker in workers:\n",
    "    worker.join()\n",
    "\n",
    "print('Results: %s' % results)\n"
   ]
  },
  {
   "cell_type": "code",
   "execution_count": 5,
   "metadata": {},
   "outputs": [
    {
     "name": "stdout",
     "output_type": "stream",
     "text": [
      "g = 1\n",
      "g = 1\n",
      "g = 1\n",
      "g = 1\n",
      "g = 2\n",
      "g = 2\n",
      "g = 2\n",
      "g = 2\n",
      "Results: [50494744, 50491513, 50584474, 50486954, 50491910, 50574022, 50493858, 50477627]\n"
     ]
    }
   ],
   "source": [
    "import random\n",
    "import multiprocessing\n",
    "\n",
    "g = 0\n",
    "\n",
    "def compute(n):\n",
    "    global g\n",
    "    g += 1\n",
    "    print('g = %d' % g)\n",
    "    return sum([random.randint(1, 100) for i in range(1000000)])\n",
    "\n",
    "pool = multiprocessing.Pool(4)\n",
    "print('Results: %s' % pool.map(compute, range(8)))\n"
   ]
  },
  {
   "cell_type": "code",
   "execution_count": null,
   "metadata": {},
   "outputs": [],
   "source": []
  }
 ],
 "metadata": {
  "kernelspec": {
   "display_name": "Python 3",
   "language": "python",
   "name": "python3"
  },
  "language_info": {
   "codemirror_mode": {
    "name": "ipython",
    "version": 3
   },
   "file_extension": ".py",
   "mimetype": "text/x-python",
   "name": "python",
   "nbconvert_exporter": "python",
   "pygments_lexer": "ipython3",
   "version": "3.6.5"
  }
 },
 "nbformat": 4,
 "nbformat_minor": 2
}
